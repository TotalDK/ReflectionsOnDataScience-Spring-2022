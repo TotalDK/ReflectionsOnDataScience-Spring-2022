{
 "cells": [
  {
   "cell_type": "markdown",
   "metadata": {},
   "source": [
    "# The Lie Factor$^1$\n",
    "\n",
    "## Definition\n",
    "\n",
    "The \"Lie Factor\" is a value to describe the relation between the size of effect shown in a graphic and the size of effect shown in the data.\n",
    "\n",
    "Edward Tufte, Prof. at the Yale University, defined the “Lie Factor” in his book “The Visual Display of Quantitative Information” in 1983.[Tufte, 1991]\n",
    "\n",
    "He states the principle that\n",
    "\n",
    "The representation of numbers, as physically measured on the surface of the graphic itself, should be directly proportional to the quantities represented.\n",
    "\n",
    "This results in the following formula:\n",
    "$$\n",
    "\\text{Lie Factor} = \\frac{\\text{size of effect shown in graphic}}{\\text{size of effect in data}}\n",
    "$$\n",
    "where\n",
    "$$\n",
    "\\text{size of effect} = \\frac{\\text{|second value - first value|}}{\\text{first value}}\n",
    "$$\n",
    "\n",
    "In other words, the Lie Factor is “the size of an effect shown in a graph divided by the actual size of the effect in the data on which the graph is based”. [Craven, 2001]\n",
    "\n",
    "## Description\n",
    "\n",
    "To ensure the Integrity of a graphic, its Lie Factor should have a value between 0.95 and 1.05. If the value is less or greater, it indicates a substantial (and often intended) distortion, far beyond minor inaccuracies (e.g. caused by plotting).\n",
    "\n",
    "For example, if the lie factor had the value 1.02, then the graphic would not be described as a “lying” one, since a jitter in the graphic or another minor error is more likely the cause for the given distortion. On the other hand, if the factor had the value 1.45, we can generally assume that the producer intentionally distorted the graphic. Is the Lie Factor greater than 1, the concerned graphic is so called “Overstating”. Is it less than 1, the graphic is “Understating”.\n",
    "\n",
    "\n",
    "\n",
    "\n",
    "\n",
    "1: https://infovis-wiki.net/wiki/Lie_Factor"
   ]
  },
  {
   "cell_type": "markdown",
   "metadata": {},
   "source": [
    "# Example\n",
    "![](https://miro.medium.com/max/700/1*uI-z9s9_URfjzpQc3FCDxw.png)\n",
    "\n",
    "In this chart from the Argentinian TV channel C5N, it looks like Argentina is testing for COVID-19 at almost the same rate as the United States (EEUU). However, by inspecting the numbers, we immediately observe that Argentina is doing significantly worse than the US. Let's calculate the Lie Factor:\n",
    "\n",
    "* The Argentinian bar is about 80 pixels tall. The American bar is about 100 pixels tall.\n",
    "* The size of the effect shown in graphic is then (100-80)/80 = 0.25, and the size of the effect in data is (7000-330)/(330) = 20.2\n",
    "* The lie factor is thus 0.25 / 20.2=0.0123.\n",
    "\n",
    "We can now conclude that the graphic is understating."
   ]
  },
  {
   "cell_type": "markdown",
   "metadata": {},
   "source": [
    "# Exercise\n",
    "Find the Lie Factors (outside the range [0.95 : 1.05]) in the following charts.\n",
    "In order to measure pixel coordinates, you can use the screenshot tool (Command-Shift-4) on Mac. On Windows, you can save the screenshot from snipping tool and look at its properties to see its size in pixels. On Linux, use the screenshot tool of your choice (scrot and flameshot are popular), and use the `file` command to see its dimensions."
   ]
  },
  {
   "cell_type": "markdown",
   "metadata": {},
   "source": [
    "![](https://www.callingbullshit.org/tools/img/GTAI_average_hours.gif)"
   ]
  },
  {
   "cell_type": "code",
   "execution_count": 5,
   "metadata": {},
   "outputs": [],
   "source": [
    "import numpy as np\n",
    "\n",
    "def size_of_effect(a, b):\n",
    "    return abs(a-b)/min(a,b)\n",
    "\n",
    "def lie_factor(pixels_a, pixels_b, val_a, val_b):\n",
    "    return size_of_effect(pixels_a, pixels_b)/size_of_effect(val_a, val_b)"
   ]
  },
  {
   "cell_type": "code",
   "execution_count": 11,
   "metadata": {},
   "outputs": [
    {
     "name": "stdout",
     "output_type": "stream",
     "text": [
      "Not taking truncation into account: 25.86707152496623\n",
      "    Taking truncation into account: 0.9682860998650451\n"
     ]
    }
   ],
   "source": [
    "pixels = np.array([283, 260, 240, 212, 206, 206, 201, 191, 191, 175, 142, 115, 110, 78])\n",
    "values = np.array([41.2, 40.8, 40.4, 39.9, 39.8, 39.8, 39.7, 39.7, 39.5, 39.5, 39.5, 39.2, 38.6, 38.1, 38.0, 37.4])\n",
    "x_0 = 36\n",
    "print(\"Not taking truncation into account:\", lie_factor(pixels[0], pixels[-1], values[0], values[-1]))\n",
    "print(\"    Taking truncation into account:\", lie_factor(pixels[0], pixels[-1], (values-x_0)[0], (values-x_0)[-1]))"
   ]
  },
  {
   "cell_type": "markdown",
   "metadata": {},
   "source": [
    "![](https://peltiertech.com/images/2011-11/Ybroken.png)"
   ]
  },
  {
   "cell_type": "code",
   "execution_count": 12,
   "metadata": {},
   "outputs": [
    {
     "name": "stdout",
     "output_type": "stream",
     "text": [
      "Not taking truncation into account: 0.20707248416608023\n"
     ]
    }
   ],
   "source": [
    "# R & G of Paris\n",
    "pixels = np.array([205, 98])\n",
    "values = np.array([34.5, 5.5])\n",
    "print(\"Not taking truncation into account:\", lie_factor(pixels[0], pixels[-1], values[0], values[-1]))"
   ]
  },
  {
   "cell_type": "markdown",
   "metadata": {},
   "source": [
    "![](https://pbs.twimg.com/media/CzenChZXAAASXED?format=png&name=small)"
   ]
  },
  {
   "cell_type": "raw",
   "metadata": {},
   "source": [
    "Note: Not possible to calculate because the sizes are equal and thus the difference is 0. (You cannot divide by 0)."
   ]
  }
 ],
 "metadata": {
  "kernelspec": {
   "display_name": "Python 3",
   "language": "python",
   "name": "python3"
  },
  "language_info": {
   "codemirror_mode": {
    "name": "ipython",
    "version": 3
   },
   "file_extension": ".py",
   "mimetype": "text/x-python",
   "name": "python",
   "nbconvert_exporter": "python",
   "pygments_lexer": "ipython3",
   "version": "3.7.7"
  }
 },
 "nbformat": 4,
 "nbformat_minor": 2
}

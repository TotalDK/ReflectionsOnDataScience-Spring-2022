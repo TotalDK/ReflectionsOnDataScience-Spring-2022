{
 "cells": [
  {
   "cell_type": "code",
   "execution_count": 14,
   "metadata": {},
   "outputs": [],
   "source": [
    "import pandas as pd\n",
    "import matplotlib.pyplot as plt\n",
    "import seaborn as sns\n",
    "import numpy as np\n",
    "import random\n",
    "from scipy.stats import mannwhitneyu as mannU\n",
    "import copy"
   ]
  },
  {
   "cell_type": "markdown",
   "metadata": {},
   "source": [
    "<h1>Quantifying the evolution of individual scientific impact</h1>\n",
    "\n",
    "For this exercise you will reproduce results of the paper: Quantifying the evolution\n",
    "of individual scientific impact.\n",
    "\n",
    "http://www.robertasinatra.com/pdf/Science_quantifying_aaf5239_Sinatra.pdf\n",
    "\n",
    "The exercise consists of creating a null model for the distribution of the time of the highest impact paper in scientific careers.\n",
    "\n",
    "\n",
    "<b>The dataset describing the scientist's careers is as follow:</b>\n",
    "\n",
    "Careers time: scientist id and a list of time (in days) when his/her papers where published.\n",
    "\n",
    "Careers cites: scientist id and a list of number of citations each paper received. Note that here we are using the number of citations as a proxy to measure the impact of a paper.\n",
    "\n",
    "<h1>Read the time the papers were published</h1>"
   ]
  },
  {
   "cell_type": "code",
   "execution_count": 2,
   "metadata": {},
   "outputs": [
    {
     "data": {
      "text/html": [
       "<div>\n",
       "<style scoped>\n",
       "    .dataframe tbody tr th:only-of-type {\n",
       "        vertical-align: middle;\n",
       "    }\n",
       "\n",
       "    .dataframe tbody tr th {\n",
       "        vertical-align: top;\n",
       "    }\n",
       "\n",
       "    .dataframe thead th {\n",
       "        text-align: right;\n",
       "    }\n",
       "</style>\n",
       "<table border=\"1\" class=\"dataframe\">\n",
       "  <thead>\n",
       "    <tr style=\"text-align: right;\">\n",
       "      <th></th>\n",
       "      <th>id</th>\n",
       "      <th>papers</th>\n",
       "    </tr>\n",
       "  </thead>\n",
       "  <tbody>\n",
       "    <tr>\n",
       "      <th>0</th>\n",
       "      <td>48</td>\n",
       "      <td>[0, 455, 1057, 1330, 1687, 1939, 2065, 2492, 2...</td>\n",
       "    </tr>\n",
       "    <tr>\n",
       "      <th>1</th>\n",
       "      <td>64</td>\n",
       "      <td>[0, 175, 1400, 1492, 2206, 2223, 2407, 2710, 2...</td>\n",
       "    </tr>\n",
       "    <tr>\n",
       "      <th>2</th>\n",
       "      <td>378</td>\n",
       "      <td>[0, 0, 249, 354, 371, 583, 644, 675, 781, 781,...</td>\n",
       "    </tr>\n",
       "    <tr>\n",
       "      <th>3</th>\n",
       "      <td>476</td>\n",
       "      <td>[0, 61, 244, 304, 419, 594, 608, 839, 973, 109...</td>\n",
       "    </tr>\n",
       "    <tr>\n",
       "      <th>4</th>\n",
       "      <td>485</td>\n",
       "      <td>[0, 194, 335, 335, 335, 943, 973, 1218, 1980, ...</td>\n",
       "    </tr>\n",
       "  </tbody>\n",
       "</table>\n",
       "</div>"
      ],
      "text/plain": [
       "    id                                             papers\n",
       "0   48  [0, 455, 1057, 1330, 1687, 1939, 2065, 2492, 2...\n",
       "1   64  [0, 175, 1400, 1492, 2206, 2223, 2407, 2710, 2...\n",
       "2  378  [0, 0, 249, 354, 371, 583, 644, 675, 781, 781,...\n",
       "3  476  [0, 61, 244, 304, 419, 594, 608, 839, 973, 109...\n",
       "4  485  [0, 194, 335, 335, 335, 943, 973, 1218, 1980, ..."
      ]
     },
     "execution_count": 2,
     "metadata": {},
     "output_type": "execute_result"
    }
   ],
   "source": [
    "careers_time = pd.read_csv('./careers_time.txt', sep='; ', header=None, engine='python')\n",
    "careers_time.columns = ['id', 'papers']\n",
    "\n",
    "#split string into a list of ints\n",
    "careers_time['papers'] = careers_time.papers.str.split('\\t')\n",
    "careers_time['papers'] = careers_time['papers'].apply(lambda x: [int(i) - int(x[0]) for i in x])\n",
    "\n",
    "careers_time.head()"
   ]
  },
  {
   "cell_type": "markdown",
   "metadata": {},
   "source": [
    "<h1>Read the number of citations each paper received</h1>"
   ]
  },
  {
   "cell_type": "code",
   "execution_count": 17,
   "metadata": {},
   "outputs": [
    {
     "data": {
      "text/html": [
       "<div>\n",
       "<style scoped>\n",
       "    .dataframe tbody tr th:only-of-type {\n",
       "        vertical-align: middle;\n",
       "    }\n",
       "\n",
       "    .dataframe tbody tr th {\n",
       "        vertical-align: top;\n",
       "    }\n",
       "\n",
       "    .dataframe thead th {\n",
       "        text-align: right;\n",
       "    }\n",
       "</style>\n",
       "<table border=\"1\" class=\"dataframe\">\n",
       "  <thead>\n",
       "    <tr style=\"text-align: right;\">\n",
       "      <th></th>\n",
       "      <th>id</th>\n",
       "      <th>cites</th>\n",
       "    </tr>\n",
       "  </thead>\n",
       "  <tbody>\n",
       "    <tr>\n",
       "      <th>0</th>\n",
       "      <td>48</td>\n",
       "      <td>[4, 6, 24, 3, 3, 2, 3, 1, 2, 21, 0, 16, 3, 1, ...</td>\n",
       "    </tr>\n",
       "    <tr>\n",
       "      <th>1</th>\n",
       "      <td>64</td>\n",
       "      <td>[1, 0, 4, 34, 1, 20, 2, 2, 9, 1, 2, 3, 6, 1, 8...</td>\n",
       "    </tr>\n",
       "    <tr>\n",
       "      <th>2</th>\n",
       "      <td>378</td>\n",
       "      <td>[2, 5, 7, 3, 1, 0, 4, 5, 5, 12, 4, 32, 12, 4, ...</td>\n",
       "    </tr>\n",
       "    <tr>\n",
       "      <th>3</th>\n",
       "      <td>476</td>\n",
       "      <td>[0, 6, 8, 8, 5, 7, 4, 2, 0, 1, 7, 0, 2, 6, 4, ...</td>\n",
       "    </tr>\n",
       "    <tr>\n",
       "      <th>4</th>\n",
       "      <td>485</td>\n",
       "      <td>[13, 6, 16, 16, 11, 6, 14, 2, 0, 6, 21, 32, 41...</td>\n",
       "    </tr>\n",
       "  </tbody>\n",
       "</table>\n",
       "</div>"
      ],
      "text/plain": [
       "    id                                              cites\n",
       "0   48  [4, 6, 24, 3, 3, 2, 3, 1, 2, 21, 0, 16, 3, 1, ...\n",
       "1   64  [1, 0, 4, 34, 1, 20, 2, 2, 9, 1, 2, 3, 6, 1, 8...\n",
       "2  378  [2, 5, 7, 3, 1, 0, 4, 5, 5, 12, 4, 32, 12, 4, ...\n",
       "3  476  [0, 6, 8, 8, 5, 7, 4, 2, 0, 1, 7, 0, 2, 6, 4, ...\n",
       "4  485  [13, 6, 16, 16, 11, 6, 14, 2, 0, 6, 21, 32, 41..."
      ]
     },
     "execution_count": 17,
     "metadata": {},
     "output_type": "execute_result"
    }
   ],
   "source": [
    "careers_cites = pd.read_csv('./careers_cites.txt', sep='; ', header=None, engine='python')\n",
    "careers_cites.columns = ['id', 'cites']\n",
    "\n",
    "#split string into a list of ints\n",
    "careers_cites['cites'] = careers_cites.cites.str.split('\\t')\n",
    "careers_cites['cites'] = careers_cites['cites'].apply(lambda x: [int(i) for i in x])\n",
    "\n",
    "careers_cites.head()"
   ]
  },
  {
   "cell_type": "markdown",
   "metadata": {},
   "source": [
    "<h1>Create the null model by randomizing the citations counts </h1>"
   ]
  },
  {
   "cell_type": "code",
   "execution_count": 19,
   "metadata": {},
   "outputs": [
    {
     "data": {
      "text/html": [
       "<div>\n",
       "<style scoped>\n",
       "    .dataframe tbody tr th:only-of-type {\n",
       "        vertical-align: middle;\n",
       "    }\n",
       "\n",
       "    .dataframe tbody tr th {\n",
       "        vertical-align: top;\n",
       "    }\n",
       "\n",
       "    .dataframe thead th {\n",
       "        text-align: right;\n",
       "    }\n",
       "</style>\n",
       "<table border=\"1\" class=\"dataframe\">\n",
       "  <thead>\n",
       "    <tr style=\"text-align: right;\">\n",
       "      <th></th>\n",
       "      <th>id</th>\n",
       "      <th>cites</th>\n",
       "    </tr>\n",
       "  </thead>\n",
       "  <tbody>\n",
       "    <tr>\n",
       "      <th>0</th>\n",
       "      <td>48</td>\n",
       "      <td>[1, 19, 3, 1, 7, 1, 0, 3, 24, 6, 3, 1, 6, 10, ...</td>\n",
       "    </tr>\n",
       "    <tr>\n",
       "      <th>1</th>\n",
       "      <td>64</td>\n",
       "      <td>[8, 4, 6, 0, 1, 20, 2, 2, 3, 31, 34, 12, 9, 1,...</td>\n",
       "    </tr>\n",
       "    <tr>\n",
       "      <th>2</th>\n",
       "      <td>378</td>\n",
       "      <td>[9, 2, 4, 0, 7, 6, 3, 13, 0, 3, 4, 1, 24, 11, ...</td>\n",
       "    </tr>\n",
       "    <tr>\n",
       "      <th>3</th>\n",
       "      <td>476</td>\n",
       "      <td>[27, 54, 16, 0, 2, 79, 4, 44, 8, 7, 20, 19, 49...</td>\n",
       "    </tr>\n",
       "    <tr>\n",
       "      <th>4</th>\n",
       "      <td>485</td>\n",
       "      <td>[41, 8, 7, 21, 42, 39, 0, 6, 59, 21, 3, 6, 7, ...</td>\n",
       "    </tr>\n",
       "  </tbody>\n",
       "</table>\n",
       "</div>"
      ],
      "text/plain": [
       "    id                                              cites\n",
       "0   48  [1, 19, 3, 1, 7, 1, 0, 3, 24, 6, 3, 1, 6, 10, ...\n",
       "1   64  [8, 4, 6, 0, 1, 20, 2, 2, 3, 31, 34, 12, 9, 1,...\n",
       "2  378  [9, 2, 4, 0, 7, 6, 3, 13, 0, 3, 4, 1, 24, 11, ...\n",
       "3  476  [27, 54, 16, 0, 2, 79, 4, 44, 8, 7, 20, 19, 49...\n",
       "4  485  [41, 8, 7, 21, 42, 39, 0, 6, 59, 21, 3, 6, 7, ..."
      ]
     },
     "execution_count": 19,
     "metadata": {},
     "output_type": "execute_result"
    }
   ],
   "source": [
    "np.random.seed(1)\n",
    "careers_cites_null = pd.read_csv('./careers_cites.txt', sep='; ', header=None, engine='python')\n",
    "careers_cites_null.columns = ['id', 'cites']\n",
    "\n",
    "#split string into a list of ints\n",
    "careers_cites_null['cites'] = careers_cites_null.cites.str.split('\\t')\n",
    "careers_cites_null['cites'] = careers_cites_null['cites'].apply(lambda x: [int(i) for i in x])\n",
    "\n",
    "careers_cites_null[\"cites\"].apply(np.random.shuffle) #Inplace\n",
    "\n",
    "careers_cites_null.head()"
   ]
  },
  {
   "cell_type": "markdown",
   "metadata": {},
   "source": [
    "<h1>Plot both distributions: Data and Randomized</h1>"
   ]
  },
  {
   "cell_type": "code",
   "execution_count": 62,
   "metadata": {},
   "outputs": [
    {
     "data": {
      "image/png": "[encoded data removed]",
      "text/plain": [
       "<Figure size 432x288 with 1 Axes>"
      ]
     },
     "metadata": {
      "needs_background": "light"
     },
     "output_type": "display_data"
    }
   ],
   "source": [
    "best_paper_times = [line[idx] for line,idx in zip(careers_time['papers'],careers_cites[\"cites\"].apply(np.argmax))]\n",
    "best_paper_times_null = [line[idx] for line,idx in zip(careers_time['papers'],careers_cites_null[\"cites\"].apply(np.argmax))]\n",
    "\n",
    "n,x,_ = plt.hist(best_paper_times, histtype=\"step\", density=True)\n",
    "plt.clf()\n",
    "n_null,x_null,_ = plt.hist(best_paper_times_null, histtype=\"step\", density=True)\n",
    "plt.clf()\n",
    "bin_centers = 0.5*(x[1:]+x[:-1])\n",
    "bin_centers_null = 0.5*(x_null[1:]+x_null[:-1])\n",
    "plt.plot(bin_centers/365.25,n, label=\"Data\")\n",
    "plt.plot(bin_centers_null/365.25,n_null, label=\"Null Model\");\n",
    "\n",
    "plt.xlabel(\"Time (years)\")\n",
    "plt.ylabel(\"P(t*)\")\n",
    "plt.legend();"
   ]
  },
  {
   "cell_type": "code",
   "execution_count": 63,
   "metadata": {},
   "outputs": [
    {
     "data": {
      "image/png": "[encoded data removed]",
      "text/plain": [
       "<Figure size 432x288 with 1 Axes>"
      ]
     },
     "metadata": {
      "needs_background": "light"
     },
     "output_type": "display_data"
    }
   ],
   "source": [
    "sns.kdeplot(np.array(best_paper_times)/365.25, label=\"Data\")\n",
    "sns.kdeplot(np.array(best_paper_times_null)/365.25, label=\"Null Model\")\n",
    "plt.xlim(0, max(best_paper_times)/365.25)\n",
    "plt.xlabel(\"Time (years)\")\n",
    "plt.ylabel(\"P(t*)\")\n",
    "plt.legend();"
   ]
  },
  {
   "cell_type": "code",
   "execution_count": null,
   "metadata": {},
   "outputs": [],
   "source": []
  }
 ],
 "metadata": {
  "kernelspec": {
   "display_name": "Python 3",
   "language": "python",
   "name": "python3"
  },
  "language_info": {
   "codemirror_mode": {
    "name": "ipython",
    "version": 3
   },
   "file_extension": ".py",
   "mimetype": "text/x-python",
   "name": "python",
   "nbconvert_exporter": "python",
   "pygments_lexer": "ipython3",
   "version": "3.7.7"
  }
 },
 "nbformat": 4,
 "nbformat_minor": 2
}
